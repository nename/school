{
 "cells": [
  {
   "cell_type": "code",
   "execution_count": 1,
   "id": "2cf19066",
   "metadata": {},
   "outputs": [],
   "source": [
    "import pandas as pd\n",
    "import requests\n",
    "import os\n",
    "import numpy as np\n",
    "import math"
   ]
  },
  {
   "cell_type": "markdown",
   "id": "f782682e",
   "metadata": {},
   "source": [
    "### Data\n",
    "\n",
    "Data jsou od 1.7.2013 do 30.6.2018. Měření proběhla ve městě Leeds v 7 lokacích. Vzhledem k tomu, že AllertoBywater má nejméně NaN hodnot, analýzu budeme provádět na této části."
   ]
  },
  {
   "cell_type": "code",
   "execution_count": 2,
   "id": "02c5c806",
   "metadata": {},
   "outputs": [],
   "source": [
    "# stáhnout soubory z url adres\n",
    "with open('data/urls.txt', 'r') as f:\n",
    "    for url in f.readlines():\n",
    "        name = url.split('/')[-1]\n",
    "        with open(f\"data/{name.strip()}\", 'wb') as ff:\n",
    "            ff.write(requests.get(url).content)"
   ]
  },
  {
   "cell_type": "code",
   "execution_count": 3,
   "id": "e8d6d614",
   "metadata": {},
   "outputs": [],
   "source": [
    "# získat názvy souborů\n",
    "files = [file for file in os.listdir('./data') if file.endswith('.csv')]\n",
    "files.remove('raingauge-dailytotals.csv')"
   ]
  },
  {
   "cell_type": "code",
   "execution_count": 4,
   "id": "9afec720",
   "metadata": {},
   "outputs": [],
   "source": [
    "def get_month(arg):\n",
    "    return {\n",
    "        'Jan' : 1,\n",
    "        'Feb' : 2,\n",
    "        'Mar' : 3,\n",
    "        'Apr' : 4,\n",
    "        'May' : 5,\n",
    "        'Jun' : 6,\n",
    "        'Jul' : 7,\n",
    "        'Aug' : 8,\n",
    "        'Sep' : 9,\n",
    "        'Oct' : 10,\n",
    "        'Nov' : 11,\n",
    "        'Dec' : 12\n",
    "    }[arg]\n",
    "\n",
    "# fix časových údajů, protože nejsou konzistentní\n",
    "def f(row):\n",
    "    date = row.TIMESTAMP_LessOne\n",
    "    if not isinstance(date, str):\n",
    "        return np.nan\n",
    "    \n",
    "    if '-' not in date:\n",
    "        return date\n",
    "    \n",
    "    day, month, year = date.split('-')\n",
    "    month = str(get_month(month))\n",
    "    \n",
    "    if len(month) == 1:\n",
    "        month = f\"0{month}\" \n",
    "    return f\"{day}/{month}/20{year}\""
   ]
  },
  {
   "cell_type": "code",
   "execution_count": 5,
   "id": "e5e7e8fa",
   "metadata": {},
   "outputs": [],
   "source": [
    "# načtení prvního soubodu (je největší)\n",
    "df = pd.read_csv('data/raingauge-dailytotals.csv')"
   ]
  },
  {
   "cell_type": "code",
   "execution_count": 6,
   "id": "ca95548e",
   "metadata": {},
   "outputs": [],
   "source": [
    "# oprava datumů\n",
    "df.TIMESTAMP_LessOne = df.apply(lambda row : f(row), axis = 1)"
   ]
  },
  {
   "cell_type": "code",
   "execution_count": 7,
   "id": "8b5d17a7",
   "metadata": {},
   "outputs": [],
   "source": [
    "# spojení csv souborů do jenoho\n",
    "for file in files:\n",
    "    tmp = pd.read_csv(f\"data/{file}\")\n",
    "    tmp.TIMESTAMP_LessOne = tmp.apply(lambda row : f(row), axis = 1)\n",
    "    df = pd.concat([df, tmp])"
   ]
  },
  {
   "cell_type": "code",
   "execution_count": 8,
   "id": "a2589961",
   "metadata": {},
   "outputs": [],
   "source": [
    "# drop chybějících datumů\n",
    "df.dropna(subset=['TIMESTAMP_LessOne'], inplace=True)\n",
    "df.rename(columns={'TIMESTAMP_LessOne' : 'date'}, inplace=True)"
   ]
  },
  {
   "cell_type": "code",
   "execution_count": 9,
   "id": "32816fdd",
   "metadata": {},
   "outputs": [
    {
     "data": {
      "text/plain": [
       "date                                       0\n",
       "Qry_AllertonBywater_Daily.RAIN_mm_TOT     61\n",
       "Qry_Middleton_Daily.RAIN_mm_TOT          244\n",
       "Qry_Otley_Daily.RAIN_mm_TOT              635\n",
       "Qry_Shadwell_Daily.RAIN_mm_TOT           157\n",
       "Qry_Wetherby_Daily.RAIN_mm_TOT           397\n",
       "Qry_PotteryField_Daily.RAIN_mm_TOT       395\n",
       "dtype: int64"
      ]
     },
     "execution_count": 9,
     "metadata": {},
     "output_type": "execute_result"
    }
   ],
   "source": [
    "# vzhledem k tomu, že nejméně nan hodnot má AllertonBywater, použijeme tyto data\n",
    "df.isna().sum()"
   ]
  },
  {
   "cell_type": "code",
   "execution_count": 10,
   "id": "4cd0feec",
   "metadata": {},
   "outputs": [],
   "source": [
    "df.rename(columns={'Qry_AllertonBywater_Daily.RAIN_mm_TOT' : 'rain'}, inplace=True)"
   ]
  },
  {
   "cell_type": "code",
   "execution_count": 11,
   "id": "459dad1c",
   "metadata": {},
   "outputs": [],
   "source": [
    "# Vzhledem k tomu, že se jedná o jedno město, tak se dá předpokládat, že v průměru prší všude stejně. \n",
    "# Proto doplním chybějící hodnoty pomocí ostatních dat.\n",
    "def f(row):\n",
    "    if math.isnan(row.rain):\n",
    "        vals = [num for num in row.values[1:] if not(math.isnan(num))]\n",
    "        \n",
    "        return np.mean(vals)\n",
    "    return row.rain"
   ]
  },
  {
   "cell_type": "code",
   "execution_count": 12,
   "id": "06dbe093",
   "metadata": {},
   "outputs": [],
   "source": [
    "df['rain'] = df.apply(lambda row : f(row), axis=1)"
   ]
  },
  {
   "cell_type": "code",
   "execution_count": 13,
   "id": "f992cdac",
   "metadata": {},
   "outputs": [
    {
     "data": {
      "text/plain": [
       "date                                    0\n",
       "rain                                    0\n",
       "Qry_Middleton_Daily.RAIN_mm_TOT       244\n",
       "Qry_Otley_Daily.RAIN_mm_TOT           635\n",
       "Qry_Shadwell_Daily.RAIN_mm_TOT        157\n",
       "Qry_Wetherby_Daily.RAIN_mm_TOT        397\n",
       "Qry_PotteryField_Daily.RAIN_mm_TOT    395\n",
       "dtype: int64"
      ]
     },
     "execution_count": 13,
     "metadata": {},
     "output_type": "execute_result"
    }
   ],
   "source": [
    "df.isna().sum()"
   ]
  },
  {
   "cell_type": "code",
   "execution_count": 14,
   "id": "c203b108",
   "metadata": {},
   "outputs": [],
   "source": [
    "# selekce dat, které použijeme\n",
    "df = df[['date', 'rain']]"
   ]
  },
  {
   "cell_type": "code",
   "execution_count": 15,
   "id": "728d4ef4",
   "metadata": {},
   "outputs": [],
   "source": [
    "# save the csv\n",
    "df.to_csv('data/raingauges.csv', index=False)"
   ]
  }
 ],
 "metadata": {
  "kernelspec": {
   "display_name": "Python 3 (ipykernel)",
   "language": "python",
   "name": "python3"
  },
  "language_info": {
   "codemirror_mode": {
    "name": "ipython",
    "version": 3
   },
   "file_extension": ".py",
   "mimetype": "text/x-python",
   "name": "python",
   "nbconvert_exporter": "python",
   "pygments_lexer": "ipython3",
   "version": "3.9.12"
  }
 },
 "nbformat": 4,
 "nbformat_minor": 5
}
