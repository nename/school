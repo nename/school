{
 "cells": [
  {
   "cell_type": "markdown",
   "source": "## NI - MPI homework\nauthor : hamplto3",
   "metadata": {
    "tags": [],
    "cell_id": "00000-bfe2a383-a792-4b25-904f-1fba808abdf4",
    "deepnote_cell_type": "markdown"
   }
  },
  {
   "cell_type": "markdown",
   "source": "### Solver class",
   "metadata": {
    "tags": [],
    "cell_id": "00002-8390ee94-ebe4-47ee-b3bd-24948ae77245",
    "deepnote_cell_type": "markdown"
   }
  },
  {
   "cell_type": "code",
   "metadata": {
    "tags": [],
    "deepnote_to_be_reexecuted": false,
    "source_hash": "2b454b4b",
    "execution_start": 1638736865937,
    "execution_millis": 114,
    "deepnote_output_heights": [
     78.80000305175781
    ],
    "cell_id": "00001-e1240951-3dfa-46a4-88d6-3d0510ace3fa",
    "deepnote_cell_type": "code"
   },
   "source": "import numpy as np\n\nclass mpiSolver():\n    def __init__(self, gamma, jacobi=True):\n        # stopping threshold\n        self.thresh = 10**-6\n\n        # matrix A\n        self.A = np.zeros((20, 20), np.float64)\n\n        # main diagonal\n        np.fill_diagonal(self.A, gamma)\n\n        # under main diagonal\n        np.fill_diagonal(self.A[1:], -1)\n\n        # above main diagonal\n        np.fill_diagonal(self.A[:,1:], -1)\n\n        # vector b\n        self.b = np.zeros((20, 1), np.float64)\n\n        # fill values\n        self.b[1 : -1] = gamma - 2\n        self.b[0] = self.b[-1]  = gamma -1\n\n        # vector x\n        self.x = np.zeros((20, 1), np.float64)\n\n        # diagonal\n        self.D = np.zeros((20, 20), np.float64)\n        np.fill_diagonal(self.D, gamma)\n\n        # under diagonal (lower)\n        self.L = np.zeros((20, 20), np.float64)\n        np.fill_diagonal(self.L[1:], -1)\n\n        # above diagonal (upper)\n        self.U = np.zeros((20, 20), np.float64)\n        np.fill_diagonal(self.U[:,1:], -1)\n\n        # regular matrix Q\n        if jacobi:\n            self.Q = self.D\n        else:\n            self.Q = self.D + self.L\n\n        # inverse Q\n        self.Q_inv = np.linalg.inv(self.Q)\n\n    # check if method converges\n    def __converges__(self):\n        return all(np.linalg.eigvals(np.identity(20, np.float64) - np.dot(self.Q_inv, self.A)) < 1)\n\n    # check if the threshold is satisfied\n    # check if eukleid_norm(Ax - b) / eukleid_norm(b) < 10**-6\n    def __satisfied__(self, x):\n        return (np.linalg.norm(np.dot(self.A, x) - self.b) / np.linalg.norm(self.b)) < self.thresh\n\n    # step in calculation\n    def __step__(self, x):\n        return np.dot(self.Q_inv, (np.dot(self.Q - self.A, x) + self.b))\n\n    # main calculation function\n    def __calculate__(self):\n        iterations = 0\n\n        while True:\n            self.x = self.__step__(self.x)\n\n            iterations += 1\n\n            if self.__satisfied__(self.x):\n                return self.x, iterations\n\n    # main class function\n    def run(self, show=True):\n        if self.__converges__():\n            res, iterations = self.__calculate__()\n\n            if show:\n                print(f'iterations: {iterations}')\n                print(\"result x\")\n                print(res.T)\n\n            return res, iterations\n        else:\n            print(\"method doesnt converge\")\n            return [], 0\n\n\n    #################################################################\n    # some experiments with convergence conditions\n\n    # check if matrix is diagonally dominant\n    def __diagonallyDominant__(self):\n        # diagonal values\n        diagonal = np.diag(np.abs(self.A))\n\n        # sum of rest\n        rest = []\n        for idx, array in enumerate(np.abs(self.A)):\n            rest.append(np.sum(np.delete(array, idx)))\n        \n        return all(diagonal > rest)\n\n    \"\"\"\n    source for formulas : https://math.stackexchange.com/questions/270181/the-convergence-of-jacobi-and-gauss-seidel-methods\n    author : https://math.stackexchange.com/users/49167/thomas\n    date : 4.12.2021\n    \"\"\"\n    # G = -D^-1 * (A - D)\n    # spectral radius(G) < 1\n    def __convergesJacobi__(self):\n        return all(np.linalg.eigvals(np.dot(-1 * np.linalg.inv(self.D), (self.A - self.D))) < 1)\n\n    # G = -(D + L)^-1 * U\n    # spectral radius(G) < 1\n    def __convergesGS__(self):\n        return all(np.linalg.eigvals(np.dot(-1 * np.linalg.inv((self.D + self.L)), self.U)) < 1)\n\n    # source : https://en.wikipedia.org/wiki/Jacobi_method\n    # standard convergence condition (for any iterative method) is when the spectral radius of the iteration matrix is less than 1\n    # spectral radius(Q_inv(L + U)) < 1\n    def __convergesWiki__(self):\n        return all(np.linalg.eigvals(np.dot(np.linalg.inv(self.D), (self.L + self.U))) < 1)\n\n    # function to call all convergence conditions\n    def run_all_convergence_tests(self):\n        print('strict diagonally dominant')\n        print(self.__diagonallyDominant__())\n        print('spectral radius Jacobi')\n        print(self.__convergesJacobi__())\n        print('spectral radius GS')\n        print(self.__convergesGS__())\n        print('spectral radius from wiki')\n        print(self.__convergesWiki__())\n        print('MPI convergence')\n        print(self.__converges__()) \n",
   "execution_count": 4,
   "outputs": []
  },
  {
   "cell_type": "markdown",
   "source": "### How to run solver",
   "metadata": {
    "tags": [],
    "cell_id": "00004-7ab1282e-5f2f-48a2-8713-cd9767f30b97",
    "deepnote_cell_type": "markdown"
   }
  },
  {
   "cell_type": "code",
   "metadata": {
    "tags": [],
    "deepnote_to_be_reexecuted": false,
    "source_hash": "d38156ee",
    "execution_start": 1638736868544,
    "execution_millis": 23,
    "deepnote_output_heights": [
     611,
     194
    ],
    "cell_id": "00002-e6b46360-263e-4231-8ae4-57587d5c6904",
    "deepnote_cell_type": "code"
   },
   "source": "# create a solver class, set gamma value and select method\n# by default solver uses jacobi method, for GS use jacobi=False\nmpi = mpiSolver(gamma=5, jacobi=True)\n\n# run the iterative method\n# by default show is set to True and it prints the result \nres, iterations = mpi.run(show=True)\n\n# my experiments with different or semi-different convergence conditions\n#mpi.run_all_convergence_tests()\n",
   "execution_count": 5,
   "outputs": [
    {
     "name": "stdout",
     "text": "iterations: 15\nresult x\n[[0.99999979 0.99999958 0.99999941 0.99999925 0.99999915 0.99999905\n  0.99999901 0.99999896 0.99999895 0.99999894 0.99999894 0.99999895\n  0.99999896 0.99999901 0.99999905 0.99999915 0.99999925 0.99999941\n  0.99999958 0.99999979]]\n",
     "output_type": "stream"
    }
   ]
  },
  {
   "cell_type": "markdown",
   "source": "### Výsledky\n\n| Metoda &nbsp; | Varianta &nbsp; | Iterace &nbsp; | Konverguje &nbsp;|\n|:--------------:|:-----------:|:------------:|:--------:|\n| Ja | $\\gamma$ = 5 | 15 | konverguje |\n| Jb | $\\gamma$ = 2 | 987 | konverguje |\n| Jc | $\\gamma$ = $\\frac{1}{2}$ | -1 | nekonverguje |\n| GSa | $\\gamma$ = 5 | 10 | konverguje |\n| GSb | $\\gamma$ = 2 | 495 | konverguje |\n| GSc | $\\gamma$ = $\\frac{1}{2}$ | -1 | nekonverguje |",
   "metadata": {
    "tags": [],
    "cell_id": "00003-d6d4ab42-ebb2-4b0f-b7b7-6d39a5e974a6",
    "deepnote_cell_type": "markdown"
   }
  },
  {
   "cell_type": "markdown",
   "source": "<a style='text-decoration:none;line-height:16px;display:flex;color:#5B5B62;padding:10px;justify-content:end;' href='https://deepnote.com?utm_source=created-in-deepnote-cell&projectId=4512f25c-ca03-431d-8d06-60b578a14173' target=\"_blank\">\n<img alt='Created in deepnote.com' style='display:inline;max-height:16px;margin:0px;margin-right:7.5px;' src='data:image/svg+xml;base64,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' > </img>\nCreated in <span style='font-weight:600;margin-left:4px;'>Deepnote</span></a>",
   "metadata": {
    "tags": [],
    "created_in_deepnote_cell": true,
    "deepnote_cell_type": "markdown"
   }
  }
 ],
 "nbformat": 4,
 "nbformat_minor": 2,
 "metadata": {
  "orig_nbformat": 2,
  "deepnote": {
   "is_reactive": false
  },
  "deepnote_notebook_id": "dc3e26ea-d673-49bb-b845-165795be7e1a",
  "deepnote_execution_queue": []
 }
}